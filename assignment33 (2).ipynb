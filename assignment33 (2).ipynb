{
 "cells": [
  {
   "cell_type": "code",
   "execution_count": null,
   "id": "3188c342-5c7e-450b-9495-76f11045dead",
   "metadata": {},
   "outputs": [],
   "source": [
    "\"\"\"PYTHON PROGRAMMING ASSIGNMENT\"\"\""
   ]
  },
  {
   "cell_type": "code",
   "execution_count": 1,
   "id": "3e20455a-fa88-4fe0-ab43-0de42c1b54f5",
   "metadata": {},
   "outputs": [
    {
     "name": "stdin",
     "output_type": "stream",
     "text": [
      "Enter a number to check if it is prime:  5\n"
     ]
    },
    {
     "name": "stdout",
     "output_type": "stream",
     "text": [
      "5 is a prime number.\n"
     ]
    }
   ],
   "source": [
    "# Exercise 1: Check if a number is prime\n",
    "\n",
    "def is_prime(n):\n",
    "    if n <= 1:\n",
    "        return False\n",
    "    for i in range(2, int(n**0.5) + 1):  # Check up to square root of n\n",
    "        if n % i == 0:\n",
    "            return False\n",
    "    return True\n",
    "\n",
    "# Ask user for input\n",
    "num = int(input(\"Enter a number to check if it is prime: \"))\n",
    "\n",
    "# Check and display result\n",
    "if is_prime(num):\n",
    "    print(f\"{num} is a prime number.\")\n",
    "else:\n",
    "    print(f\"{num} is not a prime number.\")\n"
   ]
  },
  {
   "cell_type": "code",
   "execution_count": 3,
   "id": "005e8a70-89a7-447e-921c-2febd55c6bd7",
   "metadata": {},
   "outputs": [
    {
     "name": "stdin",
     "output_type": "stream",
     "text": [
      "What is the product of 2 and 5?  11\n"
     ]
    },
    {
     "name": "stdout",
     "output_type": "stream",
     "text": [
      "Incorrect. The correct answer is 10.\n"
     ]
    }
   ],
   "source": [
    "# Exercise 2: Product of two random numbers\n",
    "\n",
    "import random\n",
    "\n",
    "# Generate two random integers between 1 and 10\n",
    "num1 = random.randint(1, 10)\n",
    "num2 = random.randint(1, 10)\n",
    "\n",
    "# Ask the user to enter the product\n",
    "user_answer = int(input(f\"What is the product of {num1} and {num2}? \"))\n",
    "\n",
    "# Check and respond\n",
    "if user_answer == num1 * num2:\n",
    "    print(\"Correct! Well done.\")\n",
    "else:\n",
    "    print(f\"Incorrect. The correct answer is {num1 * num2}.\")\n"
   ]
  },
  {
   "cell_type": "code",
   "execution_count": 5,
   "id": "1fd1a799-1854-4d44-9cfa-74b8b2c21e78",
   "metadata": {},
   "outputs": [
    {
     "name": "stdout",
     "output_type": "stream",
     "text": [
      "Squares of even numbers between 100 and 200:\n",
      "100^2 = 10000\n",
      "102^2 = 10404\n",
      "104^2 = 10816\n",
      "106^2 = 11236\n",
      "108^2 = 11664\n",
      "110^2 = 12100\n",
      "112^2 = 12544\n",
      "114^2 = 12996\n",
      "116^2 = 13456\n",
      "118^2 = 13924\n",
      "120^2 = 14400\n",
      "122^2 = 14884\n",
      "124^2 = 15376\n",
      "126^2 = 15876\n",
      "128^2 = 16384\n",
      "130^2 = 16900\n",
      "132^2 = 17424\n",
      "134^2 = 17956\n",
      "136^2 = 18496\n",
      "138^2 = 19044\n",
      "140^2 = 19600\n",
      "142^2 = 20164\n",
      "144^2 = 20736\n",
      "146^2 = 21316\n",
      "148^2 = 21904\n",
      "150^2 = 22500\n",
      "152^2 = 23104\n",
      "154^2 = 23716\n",
      "156^2 = 24336\n",
      "158^2 = 24964\n",
      "160^2 = 25600\n",
      "162^2 = 26244\n",
      "164^2 = 26896\n",
      "166^2 = 27556\n",
      "168^2 = 28224\n",
      "170^2 = 28900\n",
      "172^2 = 29584\n",
      "174^2 = 30276\n",
      "176^2 = 30976\n",
      "178^2 = 31684\n",
      "180^2 = 32400\n",
      "182^2 = 33124\n",
      "184^2 = 33856\n",
      "186^2 = 34596\n",
      "188^2 = 35344\n",
      "190^2 = 36100\n",
      "192^2 = 36864\n",
      "194^2 = 37636\n",
      "196^2 = 38416\n",
      "198^2 = 39204\n",
      "200^2 = 40000\n"
     ]
    }
   ],
   "source": [
    "# Exercise 3: Squares of even numbers from 100 to 200\n",
    "\n",
    "# We choose even numbers for this exercise\n",
    "print(\"Squares of even numbers between 100 and 200:\")\n",
    "\n",
    "for num in range(100, 201):  # Include 200\n",
    "    if num % 2 == 0:  # Check for even\n",
    "        print(f\"{num}^2 = {num**2}\")\n"
   ]
  },
  {
   "cell_type": "code",
   "execution_count": 7,
   "id": "f7f7cf7d-0d87-4b4f-9f78-f7a36d8eeade",
   "metadata": {},
   "outputs": [
    {
     "name": "stdout",
     "output_type": "stream",
     "text": [
      "'this': 2\n",
      "'is': 1\n",
      "'a': 1\n",
      "'sample': 1\n",
      "'text.': 1\n",
      "'text': 1\n",
      "'will': 1\n",
      "'be': 1\n",
      "'used': 1\n",
      "'to': 1\n",
      "'demonstrate': 1\n",
      "'the': 1\n",
      "'word': 1\n",
      "'counter.': 1\n"
     ]
    }
   ],
   "source": [
    "# Exercise 4: Word Counter\n",
    "\n",
    "from collections import Counter\n",
    "\n",
    "input_text = \"This is a sample text. This text will be used to demonstrate the word counter.\"\n",
    "\n",
    "# Convert to lowercase and split into words\n",
    "words = input_text.lower().split()\n",
    "\n",
    "# Count occurrences\n",
    "word_counts = Counter(words)\n",
    "\n",
    "# Print word counts\n",
    "for word, count in word_counts.items():\n",
    "    print(f\"'{word}': {count}\")\n"
   ]
  },
  {
   "cell_type": "code",
   "execution_count": 9,
   "id": "0939bebb-c792-4b49-b431-1d5f806ceb71",
   "metadata": {},
   "outputs": [
    {
     "name": "stdout",
     "output_type": "stream",
     "text": [
      "Is 'Racecar' a palindrome? True\n"
     ]
    }
   ],
   "source": [
    "# Exercise 5: Palindrome Checker\n",
    "\n",
    "def is_palindrome(s):\n",
    "    # Remove non-alphanumeric characters and convert to lowercase\n",
    "    clean = ''.join(c.lower() for c in s if c.isalnum())\n",
    "    return clean == clean[::-1]\n",
    "\n",
    "# Example\n",
    "input_string = \"Racecar\"\n",
    "print(f\"Is '{input_string}' a palindrome? {is_palindrome(input_string)}\")\n"
   ]
  },
  {
   "cell_type": "code",
   "execution_count": 13,
   "id": "7de7b25b-45a0-4569-95c0-866d4f849799",
   "metadata": {},
   "outputs": [
    {
     "name": "stdin",
     "output_type": "stream",
     "text": [
      "Enter a word or phrase to check if it is a palindrome:  apple\n"
     ]
    },
    {
     "name": "stdout",
     "output_type": "stream",
     "text": [
      "Is 'apple' a palindrome? False\n"
     ]
    }
   ],
   "source": [
    "# Exercise 5: Palindrome Checker\n",
    "\n",
    "def is_palindrome(s):\n",
    "    # Remove non-alphanumeric characters and convert to lowercase\n",
    "    clean = ''.join(c.lower() for c in s if c.isalnum())\n",
    "    return clean == clean[::-1]\n",
    "\n",
    "# Example\n",
    "input_string = input(\"Enter a word or phrase to check if it is a palindrome: \")\n",
    "print(f\"Is '{input_string}' a palindrome? {is_palindrome(input_string)}\")\n"
   ]
  },
  {
   "cell_type": "code",
   "execution_count": null,
   "id": "b23ce799-4bc5-4499-93aa-3b0211c33556",
   "metadata": {},
   "outputs": [],
   "source": []
  }
 ],
 "metadata": {
  "kernelspec": {
   "display_name": "Python 3 (ipykernel)",
   "language": "python",
   "name": "python3"
  },
  "language_info": {
   "codemirror_mode": {
    "name": "ipython",
    "version": 3
   },
   "file_extension": ".py",
   "mimetype": "text/x-python",
   "name": "python",
   "nbconvert_exporter": "python",
   "pygments_lexer": "ipython3",
   "version": "3.12.4"
  }
 },
 "nbformat": 4,
 "nbformat_minor": 5
}
